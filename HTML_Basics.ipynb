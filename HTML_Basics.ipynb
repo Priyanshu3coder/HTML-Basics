{
  "nbformat": 4,
  "nbformat_minor": 0,
  "metadata": {
    "colab": {
      "provenance": []
    },
    "kernelspec": {
      "name": "python3",
      "display_name": "Python 3"
    },
    "language_info": {
      "name": "python"
    }
  },
  "cells": [
    {
      "cell_type": "markdown",
      "source": [
        "#HTML Basics"
      ],
      "metadata": {
        "id": "bMntvQVOhrsl"
      }
    },
    {
      "cell_type": "markdown",
      "source": [
        "# 1.Explain the basic structure of an HTML page. Why is it important to follow this structure?\n",
        "\n",
        "  **Answer->** The basic structure of an HTML page provides a standardized way to organize and interpret web content. Here's a simple example, followed by an explanation:"
      ],
      "metadata": {
        "id": "wSYXQxSLiunF"
      }
    },
    {
      "cell_type": "code",
      "source": [
        "<!DOCTYPE html>\n",
        "<html lang=\"en\">\n",
        "<head>\n",
        "    <meta charset=\"UTF-8\">\n",
        "    <meta name=\"viewport\" content=\"width=device-width, initial-scale=1.0\">\n",
        "    <title>My First HTML Page</title>\n",
        "</head>\n",
        "<body>\n",
        "    <h1>Hello, world!</h1>\n",
        "    <p>This is a paragraph of text on the page.</p>\n",
        "</body>\n",
        "</html>\n"
      ],
      "metadata": {
        "id": "wqg6ZqSUkFDA"
      },
      "execution_count": null,
      "outputs": []
    },
    {
      "cell_type": "markdown",
      "source": [
        "**Why is Following This Structure Important?**\n",
        "\n",
        "**1.Browser Compatibility**\n",
        "\n",
        "Ensures the page is rendered consistently across different browsers.\n",
        "\n",
        "**2.Accessibility**\n",
        "\n",
        "Screen readers and assistive technologies rely on structured HTML to convey content effectively.\n",
        "\n",
        "**3.Search Engine Optimization (SEO)**\n",
        "\n",
        "Proper structure helps search engines understand and index content.\n",
        "\n",
        "**4.Maintainability**\n",
        "\n",
        "Makes the code easier to read, edit, and debug.\n",
        "\n",
        "**5.Standards Compliance**\n",
        "\n",
        "Following HTML standards promotes better interoperability and future-proofing."
      ],
      "metadata": {
        "id": "yl3DF4JVljvE"
      }
    },
    {
      "cell_type": "markdown",
      "source": [
        "# 2. You’re building a small personal profile page. Which HTML tags will you use to highlight your name as a heading, describe yourself in a paragraph, and emphasize a key skill?\n",
        "\n",
        "**Answer ->**\n",
        "\n"
      ],
      "metadata": {
        "id": "MlZu7A6pneQ1"
      }
    },
    {
      "cell_type": "code",
      "source": [
        "Tags You’ll Use:\n",
        "\n",
        "1.<h1> – For your name as the main heading.\n",
        "2.<p> – For a paragraph describing yourself.\n",
        "3.<em> or <strong> – To emphasize a key skill.\n",
        "Use <em> for italic emphasis (usually subtle).\n",
        "Use <strong> for bold importance (usually stronger emphasis).\n",
        "2.<p> – For a paragraph describing yourself.\n",
        "3.<em> or <strong> – To emphasize a key skill.\n",
        "Use <em> for italic emphasis (usually subtle).\n",
        "Use <strong> for bold importance (usually stronger emphasis)."
      ],
      "metadata": {
        "id": "eGJuW3Sfn_M4"
      },
      "execution_count": null,
      "outputs": []
    },
    {
      "cell_type": "code",
      "source": [
        "<!DOCTYPE html>\n",
        "<html lang=\"en\">\n",
        "<head>\n",
        "    <meta charset=\"UTF-8\">\n",
        "    <title>My Profile</title>\n",
        "</head>\n",
        "<!DOCTYPE html>\n",
        "<html lang=\"en\">\n",
        "<head>\n",
        "    <meta charset=\"UTF-8\">\n",
        "    <title>My Profile</title>\n",
        "</head>\n",
        "<body>\n",
        "    <h1>Jane Doe</h1>\n",
        "    <p>Hi! I'm a passionate web developer with a love for creating sleek, user-friendly websites.</p>\n",
        "    <p>One of my strongest skills is <strong>JavaScript</strong>, especially in building dynamic interfaces.</p>\n",
        "</body>\n",
        "</html>\n",
        "</html>\n"
      ],
      "metadata": {
        "id": "5PCvAfsgoG7B"
      },
      "execution_count": null,
      "outputs": []
    },
    {
      "cell_type": "markdown",
      "source": [
        "# 3.Look at the code below. Can you find and fix the mistake?\n",
        " <!-- This is an HTML comment\n",
        "<h1>Welcome to my website</h1>\n",
        "# Answer->"
      ],
      "metadata": {
        "id": "qNWfxjtboffk"
      }
    },
    {
      "cell_type": "code",
      "source": [
        "<!-- This is an HTML comment -->\n",
        "<h1>Welcome to my website</h1>\n"
      ],
      "metadata": {
        "id": "OvBSbfUbo2yu"
      },
      "execution_count": null,
      "outputs": []
    },
    {
      "cell_type": "markdown",
      "source": [
        "# 4.You’re creating a form that asks the user to enter their name, select their country from a list, and click a button to submit. Write the HTML code for this.\n",
        "**Answer->**"
      ],
      "metadata": {
        "id": "BcA857LwpIgl"
      }
    },
    {
      "cell_type": "code",
      "source": [
        "<!DOCTYPE html>\n",
        "<html lang=\"en\">\n",
        "<head>\n",
        "    <meta charset=\"UTF-8\">\n",
        "    <title>User Info Form</title>\n",
        "</head>\n",
        "<body>\n",
        "\n",
        "    <form action=\"/submit\" method=\"post\">\n",
        "        <label for=\"name\">Name:</label><br>\n",
        "        <input type=\"text\" id=\"name\" name=\"name\" required><br><br>\n",
        "\n",
        "        <label for=\"country\">Country:</label><br>\n",
        "        <select id=\"country\" name=\"country\" required>\n",
        "            <option value=\"\">--Select your country--</option>\n",
        "            <option value=\"us\">United States</option>\n",
        "            <option value=\"ca\">Canada</option>\n",
        "            <option value=\"uk\">United Kingdom</option>\n",
        "            <option value=\"au\">Australia</option>\n",
        "            <!-- You can add more countries as needed -->\n",
        "        </select><br><br>\n",
        "\n",
        "        <button type=\"submit\">Submit</button>\n",
        "    </form>\n",
        "\n",
        "</body>\n",
        "</html>\n"
      ],
      "metadata": {
        "id": "HrGz28_epgBl"
      },
      "execution_count": null,
      "outputs": []
    },
    {
      "cell_type": "markdown",
      "source": [
        "# 5.Write short HTML code to show your favorite fruits in a bulleted list and your top 3 programming languages in a numbered list.\n",
        "\n",
        "**Answer->**\n"
      ],
      "metadata": {
        "id": "D5j7Of7dpjA5"
      }
    },
    {
      "cell_type": "code",
      "source": [
        "<!DOCTYPE html>\n",
        "<html lang=\"en\">\n",
        "<head>\n",
        "    <meta charset=\"UTF-8\">\n",
        "    <title>My Favorites</title>\n",
        "</head>\n",
        "<body>\n",
        "\n",
        "    <h2>My Favorite Fruits</h2>\n",
        "    <ul>\n",
        "        <li>Mango</li>\n",
        "        <li>Strawberry</li>\n",
        "        <li>Blueberry</li>\n",
        "    </ul>\n",
        "\n",
        "    <h2>Top 3 Programming Languages</h2>\n",
        "    <ol>\n",
        "        <li>JavaScript</li>\n",
        "        <li>Python</li>\n",
        "        <li>TypeScript</li>\n",
        "    </ol>\n",
        "\n",
        "</body>\n",
        "</html>\n"
      ],
      "metadata": {
        "id": "f3g0nIt_p5mV"
      },
      "execution_count": null,
      "outputs": []
    }
  ]
}